{
 "cells": [
  {
   "cell_type": "markdown",
   "metadata": {},
   "source": [
    "線形回帰とは何か。\n",
    "A.データを予測するベストな関数を見つけること。\n",
    "具体的に言うと？\n",
    "A.誤差関数を最小にするような係数を見つけること。\n",
    "分類と何か違うのか。\n",
    "A.予測する値が連続的な値をとること。分類はカテゴリ別に分類すること。"
   ]
  },
  {
   "cell_type": "code",
   "execution_count": 27,
   "metadata": {
    "collapsed": false
   },
   "outputs": [],
   "source": [
    "#データを取得する\n",
    "from sklearn.datasets import load_boston"
   ]
  },
  {
   "cell_type": "code",
   "execution_count": 28,
   "metadata": {
    "collapsed": false
   },
   "outputs": [],
   "source": [
    "#取得データをDataFrameにする\n",
    "boston = load_boston()\n",
    "import pandas as pd\n",
    "X = pd.DataFrame(boston.data,columns=boston.feature_names)\n",
    "y = pd.DataFrame(boston.target)"
   ]
  },
  {
   "cell_type": "code",
   "execution_count": 29,
   "metadata": {
    "collapsed": false
   },
   "outputs": [],
   "source": [
    "#説明変数を'LSTAT'のみにする\n",
    "x = X['LSTAT']"
   ]
  },
  {
   "cell_type": "markdown",
   "metadata": {},
   "source": [
    "単回帰と重回帰についての違いを記述せよ\n",
    "説明変数が１つの場合が単回帰、説明変数が複数の場合が重回帰"
   ]
  },
  {
   "cell_type": "code",
   "execution_count": 30,
   "metadata": {
    "collapsed": false
   },
   "outputs": [
    {
     "data": {
      "text/plain": [
       "pandas.core.frame.DataFrame"
      ]
     },
     "execution_count": 30,
     "metadata": {},
     "output_type": "execute_result"
    }
   ],
   "source": [
    "#※head()メソッドなどを使用して、データを確認する\n",
    "X.head()\n",
    "y.head()\n",
    "type(X)"
   ]
  },
  {
   "cell_type": "code",
   "execution_count": 31,
   "metadata": {
    "collapsed": false
   },
   "outputs": [],
   "source": [
    "#テストデータに分割する\n",
    "from sklearn.model_selection import train_test_split\n",
    "X_train,X_test,y_train,y_test = train_test_split(x,y,test_size=0.2)"
   ]
  },
  {
   "cell_type": "code",
   "execution_count": 32,
   "metadata": {
    "collapsed": false,
    "scrolled": true
   },
   "outputs": [
    {
     "name": "stdout",
     "output_type": "stream",
     "text": [
      "(404,)\n",
      "(102,)\n",
      "(404, 1)\n",
      "(102, 1)\n"
     ]
    }
   ],
   "source": [
    "#データの形状を確認する\n",
    "print(X_train.shape)\n",
    "print(X_test.shape)\n",
    "print(y_train.shape)\n",
    "print(y_test.shape)"
   ]
  },
  {
   "cell_type": "code",
   "execution_count": 33,
   "metadata": {
    "collapsed": false
   },
   "outputs": [
    {
     "data": {
      "text/plain": [
       "LinearRegression(copy_X=True, fit_intercept=True, n_jobs=1, normalize=False)"
      ]
     },
     "execution_count": 33,
     "metadata": {},
     "output_type": "execute_result"
    }
   ],
   "source": [
    "#学習\n",
    "from sklearn.linear_model import LinearRegression\n",
    "lin_1d = LinearRegression()\n",
    "lin_1d.fit(X_train[:,None],y_train)"
   ]
  },
  {
   "cell_type": "code",
   "execution_count": 34,
   "metadata": {
    "collapsed": false
   },
   "outputs": [
    {
     "name": "stdout",
     "output_type": "stream",
     "text": [
      "一次式における'LSTAT'の住宅価格への決定係数は0.52\n"
     ]
    }
   ],
   "source": [
    "#決定係数\n",
    "score_1d = lin_1d.score(X_test[:,None],y_test)\n",
    "print(\"一次式における'LSTAT'の住宅価格への決定係数は%.2f\"%(score_1d))"
   ]
  },
  {
   "cell_type": "markdown",
   "metadata": {},
   "source": [
    "決定係数とは何か\n",
    "A.説明変数が目的変数をどれくらい説明できるかを表す値。\n",
    "\n",
    "もっとも説明変数が、目的変数を説明できる場合、決定係数は何になるか\n",
    "A.１\n",
    "\n",
    "どのように求めることができるか\n",
    "A.R**2 = 回帰変動/全変動"
   ]
  },
  {
   "cell_type": "markdown",
   "metadata": {
    "collapsed": true
   },
   "source": [
    "決定係数をいかなる場合も信じても良いか記述せよ\n",
    "A.説明変数の数が増えるほど１に近く性質があるため、説明変数が多い場合は信じてはいけない。説明変数が多い場合は自由度調整済み決定係数を使う。"
   ]
  },
  {
   "cell_type": "code",
   "execution_count": 35,
   "metadata": {
    "collapsed": false,
    "scrolled": false
   },
   "outputs": [
    {
     "name": "stdout",
     "output_type": "stream",
     "text": [
      "二次式における'LSTAT'の住宅価格への決定係数は0.61\n",
      "三次式における'LSTAT'の住宅価格への決定係数は0.63\n",
      "四次式における'LSTAT'の住宅価格への決定係数は0.64\n"
     ]
    }
   ],
   "source": [
    "# 2,3,4次式の回帰\n",
    "from sklearn.linear_model import LinearRegression\n",
    "from sklearn.preprocessing import PolynomialFeatures\n",
    "\n",
    "lin_2d = LinearRegression()\n",
    "lin_3d = LinearRegression()\n",
    "lin_4d = LinearRegression()\n",
    "\n",
    "degree_2 = PolynomialFeatures(degree=2)\n",
    "degree_3 = PolynomialFeatures(degree=3)\n",
    "degree_4 = PolynomialFeatures(degree=4)\n",
    "\n",
    "x_train_2 = degree_2.fit_transform(X_train[:,None])\n",
    "x_train_3 = degree_3.fit_transform(X_train[:,None])\n",
    "x_train_4 = degree_4.fit_transform(X_train[:,None])\n",
    "\n",
    "x_test_2 = degree_2.fit_transform(X_test[:,None])\n",
    "x_test_3 = degree_3.fit_transform(X_test[:,None])\n",
    "x_test_4 = degree_4.fit_transform(X_test[:,None])\n",
    "\n",
    "lin_2d.fit(x_train_2,y_train)\n",
    "lin_3d.fit(x_train_3,y_train)\n",
    "lin_4d.fit(x_train_4,y_train)\n",
    "\n",
    "score_2d = lin_2d.score(x_test_2,y_test)\n",
    "score_3d = lin_3d.score(x_test_3,y_test)\n",
    "score_4d = lin_4d.score(x_test_4,y_test)\n",
    "\n",
    "print(\"二次式における'LSTAT'の住宅価格への決定係数は%.2f\"%(score_2d))\n",
    "print(\"三次式における'LSTAT'の住宅価格への決定係数は%.2f\"%(score_3d))\n",
    "print(\"四次式における'LSTAT'の住宅価格への決定係数は%.2f\"%(score_4d))"
   ]
  },
  {
   "cell_type": "code",
   "execution_count": 36,
   "metadata": {
    "collapsed": false
   },
   "outputs": [
    {
     "name": "stdout",
     "output_type": "stream",
     "text": [
      "(404, 3)\n",
      "(404, 1)\n"
     ]
    }
   ],
   "source": [
    "print(x_train_2.shape)\n",
    "print(y_train.shape)"
   ]
  },
  {
   "cell_type": "markdown",
   "metadata": {
    "collapsed": true
   },
   "source": [
    "次数が大きくなるとどうなるか記述せよ\n",
    "\n",
    "一次式：ax + b\n",
    "二次式：ax**2 + bx + c\n",
    "三次式：a3*x^3 + a2*x^2 + a1*x + a0 = 0\n",
    "次数を増やすメリット：より実際のデータを説明できるような曲線を描ける。\n",
    "次数を増やすデメリット：過学習を起こすこと。"
   ]
  },
  {
   "cell_type": "code",
   "execution_count": 37,
   "metadata": {
    "collapsed": false,
    "scrolled": true
   },
   "outputs": [
    {
     "data": {
      "text/plain": [
       "numpy.ndarray"
      ]
     },
     "execution_count": 37,
     "metadata": {},
     "output_type": "execute_result"
    }
   ],
   "source": [
    "#重回帰（相関が強い特徴量のみを使用、次数を変更）\n",
    "New_X=pd.concat([X,y],axis=1)\n",
    "New_X.corr()#相関が強いのはLSTATとRM\n",
    "type(X.loc[:,['RM','LSTAT','PTRATIO']].as_matrix())"
   ]
  },
  {
   "cell_type": "code",
   "execution_count": 41,
   "metadata": {
    "collapsed": false
   },
   "outputs": [
    {
     "name": "stdout",
     "output_type": "stream",
     "text": [
      "二次式における'LSTAT'の住宅価格への決定係数は0.76\n",
      "三次式における'LSTAT'の住宅価格への決定係数は0.77\n",
      "四次式における'LSTAT'の住宅価格への決定係数は0.73\n"
     ]
    }
   ],
   "source": [
    "x2 = X.loc[:,['RM','LSTAT','PTRATIO']]\n",
    "#x2_test = x2.loc[:,['RM','LSTAT','PTRATIO']]\n",
    "\n",
    "from sklearn.model_selection import train_test_split\n",
    "X2_train,X2_test,y2_train,y2_test = train_test_split(x2,y,test_size=0.2)\n",
    "\n",
    "lin_2d_m = LinearRegression()\n",
    "lin_3d_m = LinearRegression()\n",
    "lin_4d_m = LinearRegression()\n",
    "\n",
    "degree_2_m = PolynomialFeatures(degree=2)\n",
    "degree_3_m = PolynomialFeatures(degree=3)\n",
    "degree_4_m = PolynomialFeatures(degree=4)\n",
    "\n",
    "x2_train_2 = degree_2_m.fit_transform(X2_train.as_matrix())\n",
    "x2_train_3 = degree_3_m.fit_transform(X2_train.as_matrix())\n",
    "x2_train_4 = degree_4_m.fit_transform(X2_train.as_matrix())\n",
    "\n",
    "x2_test_2 = degree_2.fit_transform(X2_test.as_matrix())\n",
    "x2_test_3 = degree_3.fit_transform(X2_test.as_matrix())\n",
    "x2_test_4 = degree_4.fit_transform(X2_test.as_matrix())\n",
    "\n",
    "lin_2d_m.fit(x2_train_2,y2_train)\n",
    "lin_3d_m.fit(x2_train_3,y2_train)\n",
    "lin_4d_m.fit(x2_train_4,y2_train)\n",
    "\n",
    "score_2d_x2 = lin_2d_m.score(x2_test_2,y2_test)\n",
    "score_3d_x2 = lin_3d_m.score(x2_test_3,y2_test)\n",
    "score_4d_x2 = lin_4d_m.score(x2_test_4,y2_test)\n",
    "\n",
    "print(\"二次式における'LSTAT'の住宅価格への決定係数は%.2f\"%(score_2d_x2))\n",
    "print(\"三次式における'LSTAT'の住宅価格への決定係数は%.2f\"%(score_3d_x2))\n",
    "print(\"四次式における'LSTAT'の住宅価格への決定係数は%.2f\"%(score_4d_x2))"
   ]
  },
  {
   "cell_type": "markdown",
   "metadata": {},
   "source": [
    "重回帰について記述\n",
    "説明変数を増やすメリット：より目的変数を説得力を持って説明できる。\n",
    "説明変数を増やすデメリット：汎化能力に対し、目的変数と関係ない説明変数の影響を及ぼしてしまう。"
   ]
  }
 ],
 "metadata": {
  "kernelspec": {
   "display_name": "Python 3",
   "language": "python",
   "name": "python3"
  },
  "language_info": {
   "codemirror_mode": {
    "name": "ipython",
    "version": 3
   },
   "file_extension": ".py",
   "mimetype": "text/x-python",
   "name": "python",
   "nbconvert_exporter": "python",
   "pygments_lexer": "ipython3",
   "version": "3.6.0"
  }
 },
 "nbformat": 4,
 "nbformat_minor": 2
}
