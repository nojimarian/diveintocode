{
 "cells": [
  {
   "cell_type": "code",
   "execution_count": 10,
   "metadata": {
    "collapsed": false
   },
   "outputs": [],
   "source": [
    "from sklearn import cross_validation\n",
    "from sklearn.datasets import load_boston\n",
    "\n",
    "import pandas as pd\n",
    "import numpy as np\n",
    "\n",
    "from sklearn.linear_model import Ridge\n",
    "from sklearn.preprocessing import PolynomialFeatures\n",
    "\n",
    "from sklearn.metrics import mean_squared_error\n",
    "\n",
    "boston = load_boston()\n",
    "X = pd.DataFrame(boston.data[:100,:],columns=boston.feature_names)\n",
    "y = boston.target[:100]\n",
    "x = X['LSTAT'].values"
   ]
  },
  {
   "cell_type": "code",
   "execution_count": 24,
   "metadata": {
    "collapsed": false
   },
   "outputs": [
    {
     "name": "stdout",
     "output_type": "stream",
     "text": [
      "[  1.00000000e+00   1.00000000e-05   3.58316472e+01]\n"
     ]
    }
   ],
   "source": [
    "np.random.seed(0)#乱数のシード設定\n",
    "indices = np.random.permutation(len(x))\n",
    "X = x[indices]#データの順番をランダムに並び替え\n",
    "y = y[indices]\n",
    "n_fold = 10#交差検証の回数\n",
    "k_fold = cross_validation.KFold(n=len(x),n_folds=n_fold)\n",
    "\n",
    "dim = np.arange(1,20)#グリッドサーチの候補となるハイパーパラメータを考えます。\n",
    "lambda_ = [1e-5,5e-5,5e-4,1e-3,5e-3,1e-2]#ハイパーパラメータを格納している。\n",
    "\n",
    "i = 0\n",
    "L=len(dim)*len(lambda_)\n",
    "score = np.zeros((L,3))#最終結果を入れるためのアレイ\n",
    "tmp=[]#クロスバリデーションの結果の一時的なデータを保管するためのリスト\n",
    "for d in dim:\n",
    "    degree_ = PolynomialFeatures(degree=d)\n",
    "    for l in lambda_:\n",
    "        lin_ = Ridge(normalize=True,alpha=1)\n",
    "        for train, test in k_fold:\n",
    "            x_ = degree_.fit_transform(x[train,None])\n",
    "            x_test = degree_.fit_transform(x[test,None])\n",
    "            #normalize=Trueは入力データを正規化してトレーニングすることを意味する。\n",
    "            lin_.fit(x_,y[train])\n",
    "            \n",
    "            tmp.append(mean_squared_error(y[test],lin_.predict(x_test)))\n",
    "            \n",
    "        score[i,0] = d #どんなハイパーパラメータを使ったのか格納しておきます。\n",
    "        score[i,1] = l\n",
    "        score[i,2] = sum(tmp) / len(tmp)#あるハイパーパラメータにおけるクロスバリデーション結果を格納します。\n",
    "        i += 1\n",
    "        tmp = []\n",
    "        \n",
    "print(score[np.argmin(score[:,-1])])#もっとも誤差が小さかったモデルのパラメータとその誤差の値を表示"
   ]
  },
  {
   "cell_type": "code",
   "execution_count": 86,
   "metadata": {
    "collapsed": false
   },
   "outputs": [],
   "source": [
    "#ここから課題\n",
    "from sklearn import cross_validation\n",
    "import pandas as pd \n",
    "import numpy as np\n",
    "from sklearn.linear_model import Ridge \n",
    "from sklearn.preprocessing import PolynomialFeatures\n",
    "from sklearn.metrics import mean_squared_error\n",
    "\n",
    "#データ\n",
    "CCPP = pd.read_excel('Folds5x2_pp.xlsx')\n",
    "at = CCPP['AT'].values\n",
    "v = CCPP['V'].values\n",
    "ap = CCPP['AP'].values\n",
    "rh = CCPP['RH'].values\n",
    "pe = CCPP['PE'].values\n",
    "\n",
    "#クロスバリデーションのためのランダムなデータ分割&並び替え\n",
    "np.random.seed(0)\n",
    "indices = np.random.permutation(len(CCPP))\n",
    "AT = at[indices]\n",
    "V = v[indices]\n",
    "AP = ap[indices]\n",
    "RH = rh[indices]\n",
    "PE = pe[indices]\n",
    "\n",
    "#クロスバリデーション\n",
    "n_fold = 10#交差検定の回数\n",
    "k_fold = cross_validation.KFold(n=len(CCPP),n_folds=n_fold)\n",
    "\n",
    "#グリッドサーチの候補となる次数\n",
    "dim = np.arange(1,20)\n",
    "#正則化パラメータの格納\n",
    "lambda_ = [1e-2,1e-1,5e-1,1,10,20,30,40,50,60,70,80,90,100]"
   ]
  },
  {
   "cell_type": "code",
   "execution_count": 87,
   "metadata": {
    "collapsed": false
   },
   "outputs": [
    {
     "name": "stdout",
     "output_type": "stream",
     "text": [
      "[  1.60000000e+01   1.00000000e-02   5.90933524e+01]\n"
     ]
    }
   ],
   "source": [
    "#特徴量がATの場合\n",
    "i = 0\n",
    "L  = len(dim) * len(lambda_)\n",
    "score = np.zeros((L,3))#最終結果を入れるためのアレイ\n",
    "tmp = []#クロスバリデーションの結果の一次的なデータを保管するためのリスト\n",
    "for d in dim:\n",
    "    degree_ = PolynomialFeatures(degree=d)\n",
    "    for l in lambda_:\n",
    "        lin_ = Ridge(normalize=True,alpha=1)#入力データを正規化しトレーニング\n",
    "        for train,test in k_fold:\n",
    "            AT_ = degree_.fit_transform(AT[train,None])\n",
    "            AT_test = degree_.fit_transform(AT[test,None])\n",
    "            lin_.fit(AT_,PE[train])\n",
    "            \n",
    "            tmp.append(mean_squared_error(PE[test],lin_.predict(AT_test)))\n",
    "            \n",
    "        score[i,0] = d #どんなハイパーパラメータを使ったか格納しておく\n",
    "        score[i,1] = l \n",
    "        score[i,2] = sum(tmp)/len(tmp)#あるハイパーパラメータにおけるクロスバリデーション結果を格納しておく\n",
    "        i+=1\n",
    "        tmp=[]\n",
    "    \n",
    "print(score[np.argmin(score[:,-1])])#最も誤差の小さかったハイパーパラメータとその誤差を表示"
   ]
  },
  {
   "cell_type": "code",
   "execution_count": 94,
   "metadata": {
    "collapsed": false
   },
   "outputs": [
    {
     "name": "stdout",
     "output_type": "stream",
     "text": [
      "[  1.90000000e+01   1.00000000e-02   8.92145170e+01]\n"
     ]
    }
   ],
   "source": [
    "#特徴量がVの場合\n",
    "i = 0\n",
    "L  = len(dim) * len(lambda_)\n",
    "score = np.zeros((L,3))#最終結果を入れるためのアレイ\n",
    "tmp = []#クロスバリデーションの結果の一次的なデータを保管するためのリスト\n",
    "for d in dim:\n",
    "    degree_ = PolynomialFeatures(degree=d)\n",
    "    for l in lambda_:\n",
    "        lin_ = Ridge(normalize=True,alpha=1)#入力データを正規化しトレーニング\n",
    "        for train,test in k_fold:\n",
    "            V_ = degree_.fit_transform(V[train,None])\n",
    "            V_test = degree_.fit_transform(V[test,None])\n",
    "            lin_.fit(V_,PE[train])\n",
    "            \n",
    "            tmp.append(mean_squared_error(PE[test],lin_.predict(V_test)))\n",
    "            \n",
    "        score[i,0] = d #どんなハイパーパラメータを使ったか格納しておく\n",
    "        score[i,1] = l \n",
    "        score[i,2] = sum(tmp)/len(tmp)#あるハイパーパラメータにおけるクロスバリデーション結果を格納しておく\n",
    "        i+=1\n",
    "        tmp=[]\n",
    "    \n",
    "print(score[np.argmin(score[:,-1])])#最も誤差の小さかったハイパーパラメータとその誤差を表示"
   ]
  },
  {
   "cell_type": "code",
   "execution_count": 99,
   "metadata": {
    "collapsed": false
   },
   "outputs": [
    {
     "name": "stdout",
     "output_type": "stream",
     "text": [
      "[  1.90000000e+01   1.00000000e-02   2.12474662e+02]\n"
     ]
    }
   ],
   "source": [
    "#特徴量がAPの場合\n",
    "i = 0\n",
    "L  = len(dim) * len(lambda_)\n",
    "score = np.zeros((L,3))#最終結果を入れるためのアレイ\n",
    "tmp = []#クロスバリデーションの結果の一次的なデータを保管するためのリスト\n",
    "for d in dim:\n",
    "    degree_ = PolynomialFeatures(degree=d)\n",
    "    for l in lambda_:\n",
    "        lin_ = Ridge(normalize=True,alpha=1)#入力データを正規化しトレーニング\n",
    "        for train,test in k_fold:\n",
    "            AP_ = degree_.fit_transform(AP[train,None])\n",
    "            AP_test = degree_.fit_transform(AP[test,None])\n",
    "            lin_.fit(AP_,PE[train])\n",
    "            \n",
    "            tmp.append(mean_squared_error(PE[test],lin_.predict(AP_test)))\n",
    "            \n",
    "        score[i,0] = d #どんなハイパーパラメータを使ったか格納しておく\n",
    "        score[i,1] = l \n",
    "        score[i,2] = sum(tmp)/len(tmp)#あるハイパーパラメータにおけるクロスバリデーション結果を格納しておく\n",
    "        i+=1\n",
    "        tmp=[]\n",
    "    \n",
    "print(score[np.argmin(score[:,-1])])#最も誤差の小さかったハイパーパラメータとその誤差を表示"
   ]
  },
  {
   "cell_type": "code",
   "execution_count": 102,
   "metadata": {
    "collapsed": false
   },
   "outputs": [
    {
     "name": "stdout",
     "output_type": "stream",
     "text": [
      "[  1.90000000e+01   1.00000000e-02   2.49608700e+02]\n"
     ]
    }
   ],
   "source": [
    "#特徴量がRHの場合\n",
    "i = 0\n",
    "L  = len(dim) * len(lambda_)\n",
    "score = np.zeros((L,3))#最終結果を入れるためのアレイ\n",
    "tmp = []#クロスバリデーションの結果の一次的なデータを保管するためのリスト\n",
    "for d in dim:\n",
    "    degree_ = PolynomialFeatures(degree=d)\n",
    "    for l in lambda_:\n",
    "        lin_ = Ridge(normalize=True,alpha=1)#入力データを正規化しトレーニング\n",
    "        for train,test in k_fold:\n",
    "            RH_ = degree_.fit_transform(RH[train,None])\n",
    "            RH_test = degree_.fit_transform(RH[test,None])\n",
    "            lin_.fit(RH_,PE[train])\n",
    "            \n",
    "            tmp.append(mean_squared_error(PE[test],lin_.predict(RH_test)))\n",
    "            \n",
    "        score[i,0] = d #どんなハイパーパラメータを使ったか格納しておく\n",
    "        score[i,1] = l \n",
    "        score[i,2] = sum(tmp)/len(tmp)#あるハイパーパラメータにおけるクロスバリデーション結果を格納しておく\n",
    "        i+=1\n",
    "        tmp=[]\n",
    "    \n",
    "print(score[np.argmin(score[:,-1])])#最も誤差の小さかったハイパーパラメータとその誤差を表示"
   ]
  },
  {
   "cell_type": "code",
   "execution_count": null,
   "metadata": {
    "collapsed": true
   },
   "outputs": [],
   "source": []
  }
 ],
 "metadata": {
  "kernelspec": {
   "display_name": "Python 3",
   "language": "python",
   "name": "python3"
  },
  "language_info": {
   "codemirror_mode": {
    "name": "ipython",
    "version": 3
   },
   "file_extension": ".py",
   "mimetype": "text/x-python",
   "name": "python",
   "nbconvert_exporter": "python",
   "pygments_lexer": "ipython3",
   "version": "3.6.0"
  }
 },
 "nbformat": 4,
 "nbformat_minor": 2
}
